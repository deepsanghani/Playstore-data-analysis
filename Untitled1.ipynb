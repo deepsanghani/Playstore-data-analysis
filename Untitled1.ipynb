{
 "cells": [
  {
   "cell_type": "code",
   "execution_count": 1,
   "metadata": {},
   "outputs": [],
   "source": [
    "import pandas as pd\n",
    "import numpy as np\n",
    "import matplotlib.pyplot as plt\n",
    "import seaborn as sns"
   ]
  },
  {
   "cell_type": "code",
   "execution_count": 2,
   "metadata": {},
   "outputs": [],
   "source": [
    "%matplotlib inline"
   ]
  },
  {
   "cell_type": "code",
   "execution_count": 3,
   "metadata": {},
   "outputs": [],
   "source": [
    "df1=pd.read_csv('D:\\Python\\\\googleplaystore-App-data.csv')\n",
    "df2=pd.read_csv('D:\\Python\\\\googleplaystore_user_reviews.csv')"
   ]
  },
  {
   "cell_type": "code",
   "execution_count": 4,
   "metadata": {},
   "outputs": [],
   "source": [
    "df1['Installs']=df1.Installs.apply(lambda x: x.replace('+',''))\n",
    "df1['Installs']=df1.Installs.apply(lambda x: x.replace(',',''))\n",
    "df1['Installs']=df1.Installs.apply(lambda x: x.replace('Free','0'))\n",
    "df1['Installs']=df1.Installs.apply(lambda x: x.replace('0.00','0'))\n",
    "df1['LastUpdated']=pd.to_datetime(df1['LastUpdated'])"
   ]
  },
  {
   "cell_type": "code",
   "execution_count": 5,
   "metadata": {},
   "outputs": [
    {
     "data": {
      "text/plain": [
       "App                       object\n",
       "Category                  object\n",
       "Rating                   float64\n",
       "Reviews                    int64\n",
       "Size                      object\n",
       "Installs                   int32\n",
       "Type                      object\n",
       "Price                     object\n",
       "Content Rating            object\n",
       "Genres                    object\n",
       "LastUpdated       datetime64[ns]\n",
       "Current Ver               object\n",
       "Android Ver               object\n",
       "Unnamed: 13              float64\n",
       "total                      int64\n",
       "dtype: object"
      ]
     },
     "execution_count": 5,
     "metadata": {},
     "output_type": "execute_result"
    }
   ],
   "source": [
    "df1['Installs']=df1['Installs'].astype(int)\n",
    "df1.dtypes"
   ]
  },
  {
   "cell_type": "code",
   "execution_count": 8,
   "metadata": {},
   "outputs": [
    {
     "data": {
      "text/html": [
       "<div>\n",
       "<style scoped>\n",
       "    .dataframe tbody tr th:only-of-type {\n",
       "        vertical-align: middle;\n",
       "    }\n",
       "\n",
       "    .dataframe tbody tr th {\n",
       "        vertical-align: top;\n",
       "    }\n",
       "\n",
       "    .dataframe thead th {\n",
       "        text-align: right;\n",
       "    }\n",
       "</style>\n",
       "<table border=\"1\" class=\"dataframe\">\n",
       "  <thead>\n",
       "    <tr style=\"text-align: right;\">\n",
       "      <th></th>\n",
       "      <th>Size</th>\n",
       "      <th>Installs</th>\n",
       "    </tr>\n",
       "  </thead>\n",
       "  <tbody>\n",
       "    <tr>\n",
       "      <td>0</td>\n",
       "      <td>0.00830078</td>\n",
       "      <td>5.000000e+04</td>\n",
       "    </tr>\n",
       "    <tr>\n",
       "      <td>1</td>\n",
       "      <td>0.0107422</td>\n",
       "      <td>1.000000e+06</td>\n",
       "    </tr>\n",
       "    <tr>\n",
       "      <td>2</td>\n",
       "      <td>0.0136719</td>\n",
       "      <td>1.000000e+03</td>\n",
       "    </tr>\n",
       "    <tr>\n",
       "      <td>3</td>\n",
       "      <td>0.0166016</td>\n",
       "      <td>1.010000e+05</td>\n",
       "    </tr>\n",
       "    <tr>\n",
       "      <td>4</td>\n",
       "      <td>0.0175781</td>\n",
       "      <td>5.100000e+03</td>\n",
       "    </tr>\n",
       "    <tr>\n",
       "      <td>...</td>\n",
       "      <td>...</td>\n",
       "      <td>...</td>\n",
       "    </tr>\n",
       "    <tr>\n",
       "      <td>455</td>\n",
       "      <td>95</td>\n",
       "      <td>1.992610e+08</td>\n",
       "    </tr>\n",
       "    <tr>\n",
       "      <td>456</td>\n",
       "      <td>96</td>\n",
       "      <td>5.368105e+08</td>\n",
       "    </tr>\n",
       "    <tr>\n",
       "      <td>457</td>\n",
       "      <td>97</td>\n",
       "      <td>1.062711e+09</td>\n",
       "    </tr>\n",
       "    <tr>\n",
       "      <td>458</td>\n",
       "      <td>98</td>\n",
       "      <td>4.281521e+08</td>\n",
       "    </tr>\n",
       "    <tr>\n",
       "      <td>459</td>\n",
       "      <td>99</td>\n",
       "      <td>8.356600e+08</td>\n",
       "    </tr>\n",
       "  </tbody>\n",
       "</table>\n",
       "<p>460 rows × 2 columns</p>\n",
       "</div>"
      ],
      "text/plain": [
       "           Size      Installs\n",
       "0    0.00830078  5.000000e+04\n",
       "1     0.0107422  1.000000e+06\n",
       "2     0.0136719  1.000000e+03\n",
       "3     0.0166016  1.010000e+05\n",
       "4     0.0175781  5.100000e+03\n",
       "..          ...           ...\n",
       "455          95  1.992610e+08\n",
       "456          96  5.368105e+08\n",
       "457          97  1.062711e+09\n",
       "458          98  4.281521e+08\n",
       "459          99  8.356600e+08\n",
       "\n",
       "[460 rows x 2 columns]"
      ]
     },
     "execution_count": 8,
     "metadata": {},
     "output_type": "execute_result"
    }
   ],
   "source": [
    "df39=df1.groupby('Size')[['Installs']].sum()\n",
    "df39.columns\n",
    "df39.reset_index(inplace=True)\n",
    "df39.drop(df39[df39['Size']=='Varies with device' ].index, inplace = True)\n",
    "df39.dtypes\n",
    "df39"
   ]
  },
  {
   "cell_type": "code",
   "execution_count": 7,
   "metadata": {},
   "outputs": [],
   "source": [
    "df1['Size']=df1.Size.apply(lambda x: x.replace('M',''))\n",
    "df1[\"Size\"] = df1[\"Size\"].apply(lambda x: float(str(x).replace('k', '')) / 1024 if 'k' in str(x) else x)"
   ]
  },
  {
   "cell_type": "code",
   "execution_count": 9,
   "metadata": {},
   "outputs": [],
   "source": [
    "df39['Size']=df39['Size'].astype(float)"
   ]
  },
  {
   "cell_type": "code",
   "execution_count": 19,
   "metadata": {},
   "outputs": [
    {
     "data": {
      "text/plain": [
       "[5031907115.0]"
      ]
     },
     "execution_count": 19,
     "metadata": {},
     "output_type": "execute_result"
    }
   ],
   "source": [
    "df6=df39[df39['Size']>0]\n",
    "df6=df6[df6['Size']<=10]\n",
    "count=[]\n",
    "Sum=df6['Installs'].sum()\n",
    "count.append(Sum)\n",
    "count"
   ]
  },
  {
   "cell_type": "code",
   "execution_count": 20,
   "metadata": {},
   "outputs": [],
   "source": [
    "df7=df39[df39['Size']>10]\n",
    "df7=df7[df7['Size']<=20]\n",
    "Sum=df7['Installs'].sum()\n",
    "count.append(Sum)\n"
   ]
  },
  {
   "cell_type": "code",
   "execution_count": 21,
   "metadata": {},
   "outputs": [
    {
     "data": {
      "text/plain": [
       "[5031907115.0, 13623591465.0]"
      ]
     },
     "execution_count": 21,
     "metadata": {},
     "output_type": "execute_result"
    }
   ],
   "source": [
    "count"
   ]
  },
  {
   "cell_type": "code",
   "execution_count": 25,
   "metadata": {},
   "outputs": [
    {
     "data": {
      "text/plain": [
       "[5031907115.0, 13623591465.0, 5930922144.0]"
      ]
     },
     "execution_count": 25,
     "metadata": {},
     "output_type": "execute_result"
    }
   ],
   "source": [
    "df8=df39[df39['Size']>20]\n",
    "df8=df8[df8['Size']<=30]\n",
    "Sum=df8['Installs'].sum()\n",
    "count.append(Sum)\n",
    "count"
   ]
  },
  {
   "cell_type": "code",
   "execution_count": 26,
   "metadata": {},
   "outputs": [
    {
     "data": {
      "text/plain": [
       "[5031907115.0, 13623591465.0, 5930922144.0]"
      ]
     },
     "execution_count": 26,
     "metadata": {},
     "output_type": "execute_result"
    }
   ],
   "source": [
    "count"
   ]
  },
  {
   "cell_type": "code",
   "execution_count": 27,
   "metadata": {},
   "outputs": [
    {
     "data": {
      "text/plain": [
       "[5031907115.0, 13623591465.0, 5930922144.0, 5757188906.0]"
      ]
     },
     "execution_count": 27,
     "metadata": {},
     "output_type": "execute_result"
    }
   ],
   "source": [
    "df9=df39[df39['Size']>30]\n",
    "df9=df9[df9['Size']<=40]\n",
    "Sum=df9['Installs'].sum()\n",
    "count.append(Sum)\n",
    "count"
   ]
  },
  {
   "cell_type": "code",
   "execution_count": 28,
   "metadata": {},
   "outputs": [
    {
     "data": {
      "text/plain": [
       "[5031907115.0, 13623591465.0, 5930922144.0, 5757188906.0, 3663151001.0]"
      ]
     },
     "execution_count": 28,
     "metadata": {},
     "output_type": "execute_result"
    }
   ],
   "source": [
    "df10=df39[df39['Size']>40]\n",
    "df10=df10[df10['Size']<=50]\n",
    "Sum=df10['Installs'].sum()\n",
    "count.append(Sum)\n",
    "count"
   ]
  },
  {
   "cell_type": "code",
   "execution_count": 29,
   "metadata": {},
   "outputs": [
    {
     "data": {
      "text/plain": [
       "[5031907115.0,\n",
       " 13623591465.0,\n",
       " 5930922144.0,\n",
       " 5757188906.0,\n",
       " 3663151001.0,\n",
       " 5605295466.0]"
      ]
     },
     "execution_count": 29,
     "metadata": {},
     "output_type": "execute_result"
    }
   ],
   "source": [
    "df11=df39[df39['Size']>50]\n",
    "df11=df11[df11['Size']<=60]\n",
    "Sum=df11['Installs'].sum()\n",
    "count.append(Sum)\n",
    "count"
   ]
  },
  {
   "cell_type": "code",
   "execution_count": 30,
   "metadata": {},
   "outputs": [
    {
     "data": {
      "text/plain": [
       "[5031907115.0,\n",
       " 13623591465.0,\n",
       " 5930922144.0,\n",
       " 5757188906.0,\n",
       " 3663151001.0,\n",
       " 5605295466.0,\n",
       " 8510320501.0]"
      ]
     },
     "execution_count": 30,
     "metadata": {},
     "output_type": "execute_result"
    }
   ],
   "source": [
    "df12=df39[df39['Size']>60]\n",
    "df12=df12[df12['Size']<=70]\n",
    "Sum=df12['Installs'].sum()\n",
    "count.append(Sum)\n",
    "count"
   ]
  },
  {
   "cell_type": "code",
   "execution_count": 31,
   "metadata": {},
   "outputs": [
    {
     "data": {
      "text/plain": [
       "[5031907115.0,\n",
       " 13623591465.0,\n",
       " 5930922144.0,\n",
       " 5757188906.0,\n",
       " 3663151001.0,\n",
       " 5605295466.0,\n",
       " 8510320501.0,\n",
       " 11746959066.0]"
      ]
     },
     "execution_count": 31,
     "metadata": {},
     "output_type": "execute_result"
    }
   ],
   "source": [
    "df13=df39[df39['Size']>70]\n",
    "df13=df13[df13['Size']<=80]\n",
    "Sum=df13['Installs'].sum()\n",
    "count.append(Sum)\n",
    "count"
   ]
  },
  {
   "cell_type": "code",
   "execution_count": 32,
   "metadata": {},
   "outputs": [
    {
     "data": {
      "text/plain": [
       "[5031907115.0,\n",
       " 13623591465.0,\n",
       " 5930922144.0,\n",
       " 5757188906.0,\n",
       " 3663151001.0,\n",
       " 5605295466.0,\n",
       " 8510320501.0,\n",
       " 11746959066.0,\n",
       " 1116174180.0]"
      ]
     },
     "execution_count": 32,
     "metadata": {},
     "output_type": "execute_result"
    }
   ],
   "source": [
    "df14=df39[df39['Size']>80]\n",
    "df14=df14[df14['Size']<=90]\n",
    "Sum=df14['Installs'].sum()\n",
    "count.append(Sum)\n",
    "count"
   ]
  },
  {
   "cell_type": "code",
   "execution_count": 33,
   "metadata": {},
   "outputs": [
    {
     "data": {
      "text/plain": [
       "[5031907115.0,\n",
       " 13623591465.0,\n",
       " 5930922144.0,\n",
       " 5757188906.0,\n",
       " 3663151001.0,\n",
       " 5605295466.0,\n",
       " 8510320501.0,\n",
       " 11746959066.0,\n",
       " 1116174180.0,\n",
       " 4079723620.0]"
      ]
     },
     "execution_count": 33,
     "metadata": {},
     "output_type": "execute_result"
    }
   ],
   "source": [
    "df15=df39[df39['Size']>90]\n",
    "df15=df15[df15['Size']<=100]\n",
    "Sum=df15['Installs'].sum()\n",
    "count.append(Sum)\n",
    "count"
   ]
  },
  {
   "cell_type": "code",
   "execution_count": 37,
   "metadata": {},
   "outputs": [],
   "source": [
    "labels=['0-10','10-20','20-30','30-40','40-50','50-60','60-70','70-80','80-90','90-100']"
   ]
  },
  {
   "cell_type": "code",
   "execution_count": 38,
   "metadata": {},
   "outputs": [
    {
     "data": {
      "image/png": "[encoded data removed]",
      "text/plain": [
       "<Figure size 1080x720 with 1 Axes>"
      ]
     },
     "metadata": {},
     "output_type": "display_data"
    }
   ],
   "source": [
    "#reuirement17\n",
    "plt.figure(1,figsize=(15,10))\n",
    "plt.xticks(rotation='vertical')\n",
    "sns.set(font_scale=1)\n",
    "plt.ticklabel_format(style='plain', axis='y')\n",
    "sns.barplot(x=labels,y=count)\n",
    "plt.savefig('avg_rating.jpg')"
   ]
  },
  {
   "cell_type": "code",
   "execution_count": null,
   "metadata": {},
   "outputs": [],
   "source": []
  },
  {
   "cell_type": "code",
   "execution_count": 47,
   "metadata": {},
   "outputs": [
    {
     "data": {
      "text/html": [
       "<div>\n",
       "<style scoped>\n",
       "    .dataframe tbody tr th:only-of-type {\n",
       "        vertical-align: middle;\n",
       "    }\n",
       "\n",
       "    .dataframe tbody tr th {\n",
       "        vertical-align: top;\n",
       "    }\n",
       "\n",
       "    .dataframe thead th {\n",
       "        text-align: right;\n",
       "    }\n",
       "</style>\n",
       "<table border=\"1\" class=\"dataframe\">\n",
       "  <thead>\n",
       "    <tr style=\"text-align: right;\">\n",
       "      <th></th>\n",
       "      <th>App</th>\n",
       "      <th>Translated_Review</th>\n",
       "      <th>Sentiment</th>\n",
       "      <th>Sentiment_Polarity</th>\n",
       "      <th>Sentiment_Subjectivity</th>\n",
       "    </tr>\n",
       "  </thead>\n",
       "  <tbody>\n",
       "    <tr>\n",
       "      <td>0</td>\n",
       "      <td>10 Best Foods for You</td>\n",
       "      <td>I like eat delicious food. That's I'm cooking ...</td>\n",
       "      <td>Positive</td>\n",
       "      <td>1.00</td>\n",
       "      <td>0.533333</td>\n",
       "    </tr>\n",
       "    <tr>\n",
       "      <td>1</td>\n",
       "      <td>10 Best Foods for You</td>\n",
       "      <td>This help eating healthy exercise regular basis</td>\n",
       "      <td>Positive</td>\n",
       "      <td>0.25</td>\n",
       "      <td>0.288462</td>\n",
       "    </tr>\n",
       "    <tr>\n",
       "      <td>2</td>\n",
       "      <td>10 Best Foods for You</td>\n",
       "      <td>NaN</td>\n",
       "      <td>NaN</td>\n",
       "      <td>NaN</td>\n",
       "      <td>NaN</td>\n",
       "    </tr>\n",
       "    <tr>\n",
       "      <td>3</td>\n",
       "      <td>10 Best Foods for You</td>\n",
       "      <td>Works great especially going grocery store</td>\n",
       "      <td>Positive</td>\n",
       "      <td>0.40</td>\n",
       "      <td>0.875000</td>\n",
       "    </tr>\n",
       "    <tr>\n",
       "      <td>4</td>\n",
       "      <td>10 Best Foods for You</td>\n",
       "      <td>Best idea us</td>\n",
       "      <td>Positive</td>\n",
       "      <td>1.00</td>\n",
       "      <td>0.300000</td>\n",
       "    </tr>\n",
       "  </tbody>\n",
       "</table>\n",
       "</div>"
      ],
      "text/plain": [
       "                     App                                  Translated_Review  \\\n",
       "0  10 Best Foods for You  I like eat delicious food. That's I'm cooking ...   \n",
       "1  10 Best Foods for You    This help eating healthy exercise regular basis   \n",
       "2  10 Best Foods for You                                                NaN   \n",
       "3  10 Best Foods for You         Works great especially going grocery store   \n",
       "4  10 Best Foods for You                                       Best idea us   \n",
       "\n",
       "  Sentiment  Sentiment_Polarity  Sentiment_Subjectivity  \n",
       "0  Positive                1.00                0.533333  \n",
       "1  Positive                0.25                0.288462  \n",
       "2       NaN                 NaN                     NaN  \n",
       "3  Positive                0.40                0.875000  \n",
       "4  Positive                1.00                0.300000  "
      ]
     },
     "execution_count": 47,
     "metadata": {},
     "output_type": "execute_result"
    }
   ],
   "source": [
    "train=pd.read_csv('D:\\Python\\\\googleplaystore_user_reviews.csv',delimiter=\",\")\n",
    "train.head()\n"
   ]
  },
  {
   "cell_type": "code",
   "execution_count": 76,
   "metadata": {},
   "outputs": [
    {
     "data": {
      "text/html": [
       "<div>\n",
       "<style scoped>\n",
       "    .dataframe tbody tr th:only-of-type {\n",
       "        vertical-align: middle;\n",
       "    }\n",
       "\n",
       "    .dataframe tbody tr th {\n",
       "        vertical-align: top;\n",
       "    }\n",
       "\n",
       "    .dataframe thead th {\n",
       "        text-align: right;\n",
       "    }\n",
       "</style>\n",
       "<table border=\"1\" class=\"dataframe\">\n",
       "  <thead>\n",
       "    <tr style=\"text-align: right;\">\n",
       "      <th></th>\n",
       "      <th>App</th>\n",
       "      <th>Translated_Review</th>\n",
       "      <th>Sentiment</th>\n",
       "      <th>Sentiment_Polarity</th>\n",
       "      <th>Sentiment_Subjectivity</th>\n",
       "    </tr>\n",
       "  </thead>\n",
       "  <tbody>\n",
       "    <tr>\n",
       "      <td>0</td>\n",
       "      <td>10 Best Foods for You</td>\n",
       "      <td>I like eat delicious food. That's I'm cooking ...</td>\n",
       "      <td>Positive</td>\n",
       "      <td>1.000000</td>\n",
       "      <td>0.533333</td>\n",
       "    </tr>\n",
       "    <tr>\n",
       "      <td>1</td>\n",
       "      <td>10 Best Foods for You</td>\n",
       "      <td>This help eating healthy exercise regular basis</td>\n",
       "      <td>Positive</td>\n",
       "      <td>0.250000</td>\n",
       "      <td>0.288462</td>\n",
       "    </tr>\n",
       "    <tr>\n",
       "      <td>2</td>\n",
       "      <td>10 Best Foods for You</td>\n",
       "      <td>NaN</td>\n",
       "      <td>NaN</td>\n",
       "      <td>NaN</td>\n",
       "      <td>NaN</td>\n",
       "    </tr>\n",
       "    <tr>\n",
       "      <td>3</td>\n",
       "      <td>10 Best Foods for You</td>\n",
       "      <td>Works great especially going grocery store</td>\n",
       "      <td>Positive</td>\n",
       "      <td>0.400000</td>\n",
       "      <td>0.875000</td>\n",
       "    </tr>\n",
       "    <tr>\n",
       "      <td>4</td>\n",
       "      <td>10 Best Foods for You</td>\n",
       "      <td>Best idea us</td>\n",
       "      <td>Positive</td>\n",
       "      <td>1.000000</td>\n",
       "      <td>0.300000</td>\n",
       "    </tr>\n",
       "    <tr>\n",
       "      <td>...</td>\n",
       "      <td>...</td>\n",
       "      <td>...</td>\n",
       "      <td>...</td>\n",
       "      <td>...</td>\n",
       "      <td>...</td>\n",
       "    </tr>\n",
       "    <tr>\n",
       "      <td>195</td>\n",
       "      <td>10 Best Foods for You</td>\n",
       "      <td>Boring. I thought actually just texts that's i...</td>\n",
       "      <td>Negative</td>\n",
       "      <td>-0.325000</td>\n",
       "      <td>0.475000</td>\n",
       "    </tr>\n",
       "    <tr>\n",
       "      <td>196</td>\n",
       "      <td>10 Best Foods for You</td>\n",
       "      <td>Love app. It gives way good idea I buying stor...</td>\n",
       "      <td>Positive</td>\n",
       "      <td>0.400000</td>\n",
       "      <td>0.400000</td>\n",
       "    </tr>\n",
       "    <tr>\n",
       "      <td>197</td>\n",
       "      <td>10 Best Foods for You</td>\n",
       "      <td>Great Its really best unique provides detailed...</td>\n",
       "      <td>Positive</td>\n",
       "      <td>0.579167</td>\n",
       "      <td>0.683333</td>\n",
       "    </tr>\n",
       "    <tr>\n",
       "      <td>198</td>\n",
       "      <td>10 Best Foods for You</td>\n",
       "      <td>Nothing special! Could find anything useful!</td>\n",
       "      <td>Positive</td>\n",
       "      <td>0.410714</td>\n",
       "      <td>0.285714</td>\n",
       "    </tr>\n",
       "    <tr>\n",
       "      <td>199</td>\n",
       "      <td>10 Best Foods for You</td>\n",
       "      <td>Its ok I love ok.</td>\n",
       "      <td>Positive</td>\n",
       "      <td>0.500000</td>\n",
       "      <td>0.533333</td>\n",
       "    </tr>\n",
       "  </tbody>\n",
       "</table>\n",
       "<p>200 rows × 5 columns</p>\n",
       "</div>"
      ],
      "text/plain": [
       "                       App                                  Translated_Review  \\\n",
       "0    10 Best Foods for You  I like eat delicious food. That's I'm cooking ...   \n",
       "1    10 Best Foods for You    This help eating healthy exercise regular basis   \n",
       "2    10 Best Foods for You                                                NaN   \n",
       "3    10 Best Foods for You         Works great especially going grocery store   \n",
       "4    10 Best Foods for You                                       Best idea us   \n",
       "..                     ...                                                ...   \n",
       "195  10 Best Foods for You  Boring. I thought actually just texts that's i...   \n",
       "196  10 Best Foods for You  Love app. It gives way good idea I buying stor...   \n",
       "197  10 Best Foods for You  Great Its really best unique provides detailed...   \n",
       "198  10 Best Foods for You       Nothing special! Could find anything useful!   \n",
       "199  10 Best Foods for You                                  Its ok I love ok.   \n",
       "\n",
       "    Sentiment  Sentiment_Polarity  Sentiment_Subjectivity  \n",
       "0    Positive            1.000000                0.533333  \n",
       "1    Positive            0.250000                0.288462  \n",
       "2         NaN                 NaN                     NaN  \n",
       "3    Positive            0.400000                0.875000  \n",
       "4    Positive            1.000000                0.300000  \n",
       "..        ...                 ...                     ...  \n",
       "195  Negative           -0.325000                0.475000  \n",
       "196  Positive            0.400000                0.400000  \n",
       "197  Positive            0.579167                0.683333  \n",
       "198  Positive            0.410714                0.285714  \n",
       "199  Positive            0.500000                0.533333  \n",
       "\n",
       "[200 rows x 5 columns]"
      ]
     },
     "execution_count": 76,
     "metadata": {},
     "output_type": "execute_result"
    }
   ],
   "source": [
    "df44=train[train['App']=='10 Best Foods for You']\n",
    "df44"
   ]
  },
  {
   "cell_type": "code",
   "execution_count": 77,
   "metadata": {},
   "outputs": [],
   "source": [
    "df45=df44[df44['Sentiment']=='Positive']"
   ]
  },
  {
   "cell_type": "code",
   "execution_count": 89,
   "metadata": {},
   "outputs": [
    {
     "data": {
      "text/plain": [
       "[162]"
      ]
     },
     "execution_count": 89,
     "metadata": {},
     "output_type": "execute_result"
    }
   ],
   "source": [
    "count1=[]\n",
    "sum1=df45['Sentiment'].count()\n",
    "count1.append(sum1)\n",
    "count1"
   ]
  },
  {
   "cell_type": "code",
   "execution_count": 90,
   "metadata": {},
   "outputs": [
    {
     "data": {
      "text/html": [
       "<div>\n",
       "<style scoped>\n",
       "    .dataframe tbody tr th:only-of-type {\n",
       "        vertical-align: middle;\n",
       "    }\n",
       "\n",
       "    .dataframe tbody tr th {\n",
       "        vertical-align: top;\n",
       "    }\n",
       "\n",
       "    .dataframe thead th {\n",
       "        text-align: right;\n",
       "    }\n",
       "</style>\n",
       "<table border=\"1\" class=\"dataframe\">\n",
       "  <thead>\n",
       "    <tr style=\"text-align: right;\">\n",
       "      <th></th>\n",
       "      <th>App</th>\n",
       "      <th>Translated_Review</th>\n",
       "      <th>Sentiment</th>\n",
       "      <th>Sentiment_Polarity</th>\n",
       "      <th>Sentiment_Subjectivity</th>\n",
       "    </tr>\n",
       "  </thead>\n",
       "  <tbody>\n",
       "    <tr>\n",
       "      <td>32</td>\n",
       "      <td>10 Best Foods for You</td>\n",
       "      <td>No recipe book Unable recipe book.</td>\n",
       "      <td>Negative</td>\n",
       "      <td>-0.500</td>\n",
       "      <td>0.500</td>\n",
       "    </tr>\n",
       "    <tr>\n",
       "      <td>43</td>\n",
       "      <td>10 Best Foods for You</td>\n",
       "      <td>Waste time It needs internet time n ask calls ...</td>\n",
       "      <td>Negative</td>\n",
       "      <td>-0.200</td>\n",
       "      <td>0.000</td>\n",
       "    </tr>\n",
       "    <tr>\n",
       "      <td>68</td>\n",
       "      <td>10 Best Foods for You</td>\n",
       "      <td>Faltu plz waste ur time</td>\n",
       "      <td>Negative</td>\n",
       "      <td>-0.200</td>\n",
       "      <td>0.000</td>\n",
       "    </tr>\n",
       "    <tr>\n",
       "      <td>85</td>\n",
       "      <td>10 Best Foods for You</td>\n",
       "      <td>Crap Doesn't work</td>\n",
       "      <td>Negative</td>\n",
       "      <td>-0.800</td>\n",
       "      <td>0.800</td>\n",
       "    </tr>\n",
       "    <tr>\n",
       "      <td>95</td>\n",
       "      <td>10 Best Foods for You</td>\n",
       "      <td>Boring. I thought actually just texts that's i...</td>\n",
       "      <td>Negative</td>\n",
       "      <td>-0.325</td>\n",
       "      <td>0.475</td>\n",
       "    </tr>\n",
       "    <tr>\n",
       "      <td>132</td>\n",
       "      <td>10 Best Foods for You</td>\n",
       "      <td>No recipe book Unable recipe book.</td>\n",
       "      <td>Negative</td>\n",
       "      <td>-0.500</td>\n",
       "      <td>0.500</td>\n",
       "    </tr>\n",
       "    <tr>\n",
       "      <td>143</td>\n",
       "      <td>10 Best Foods for You</td>\n",
       "      <td>Waste time It needs internet time n ask calls ...</td>\n",
       "      <td>Negative</td>\n",
       "      <td>-0.200</td>\n",
       "      <td>0.000</td>\n",
       "    </tr>\n",
       "    <tr>\n",
       "      <td>168</td>\n",
       "      <td>10 Best Foods for You</td>\n",
       "      <td>Faltu plz waste ur time</td>\n",
       "      <td>Negative</td>\n",
       "      <td>-0.200</td>\n",
       "      <td>0.000</td>\n",
       "    </tr>\n",
       "    <tr>\n",
       "      <td>185</td>\n",
       "      <td>10 Best Foods for You</td>\n",
       "      <td>Crap Doesn't work</td>\n",
       "      <td>Negative</td>\n",
       "      <td>-0.800</td>\n",
       "      <td>0.800</td>\n",
       "    </tr>\n",
       "    <tr>\n",
       "      <td>195</td>\n",
       "      <td>10 Best Foods for You</td>\n",
       "      <td>Boring. I thought actually just texts that's i...</td>\n",
       "      <td>Negative</td>\n",
       "      <td>-0.325</td>\n",
       "      <td>0.475</td>\n",
       "    </tr>\n",
       "  </tbody>\n",
       "</table>\n",
       "</div>"
      ],
      "text/plain": [
       "                       App                                  Translated_Review  \\\n",
       "32   10 Best Foods for You                 No recipe book Unable recipe book.   \n",
       "43   10 Best Foods for You  Waste time It needs internet time n ask calls ...   \n",
       "68   10 Best Foods for You                            Faltu plz waste ur time   \n",
       "85   10 Best Foods for You                                  Crap Doesn't work   \n",
       "95   10 Best Foods for You  Boring. I thought actually just texts that's i...   \n",
       "132  10 Best Foods for You                 No recipe book Unable recipe book.   \n",
       "143  10 Best Foods for You  Waste time It needs internet time n ask calls ...   \n",
       "168  10 Best Foods for You                            Faltu plz waste ur time   \n",
       "185  10 Best Foods for You                                  Crap Doesn't work   \n",
       "195  10 Best Foods for You  Boring. I thought actually just texts that's i...   \n",
       "\n",
       "    Sentiment  Sentiment_Polarity  Sentiment_Subjectivity  \n",
       "32   Negative              -0.500                   0.500  \n",
       "43   Negative              -0.200                   0.000  \n",
       "68   Negative              -0.200                   0.000  \n",
       "85   Negative              -0.800                   0.800  \n",
       "95   Negative              -0.325                   0.475  \n",
       "132  Negative              -0.500                   0.500  \n",
       "143  Negative              -0.200                   0.000  \n",
       "168  Negative              -0.200                   0.000  \n",
       "185  Negative              -0.800                   0.800  \n",
       "195  Negative              -0.325                   0.475  "
      ]
     },
     "execution_count": 90,
     "metadata": {},
     "output_type": "execute_result"
    }
   ],
   "source": [
    "df46=df44[df44['Sentiment']=='Negative']\n",
    "df46"
   ]
  },
  {
   "cell_type": "code",
   "execution_count": 91,
   "metadata": {},
   "outputs": [
    {
     "data": {
      "text/plain": [
       "[162, 10]"
      ]
     },
     "execution_count": 91,
     "metadata": {},
     "output_type": "execute_result"
    }
   ],
   "source": [
    "sum1=df46['Sentiment'].count()\n",
    "count1.append(sum1)\n",
    "count1"
   ]
  },
  {
   "cell_type": "code",
   "execution_count": 92,
   "metadata": {},
   "outputs": [],
   "source": [
    "df47=df44[df44['Sentiment']=='Neutral']"
   ]
  },
  {
   "cell_type": "code",
   "execution_count": 93,
   "metadata": {},
   "outputs": [
    {
     "data": {
      "text/plain": [
       "[162, 10, 22]"
      ]
     },
     "execution_count": 93,
     "metadata": {},
     "output_type": "execute_result"
    }
   ],
   "source": [
    "sum1=df47['Sentiment'].count()\n",
    "count1.append(sum1)\n",
    "count1"
   ]
  },
  {
   "cell_type": "code",
   "execution_count": 94,
   "metadata": {},
   "outputs": [
    {
     "data": {
      "text/html": [
       "<div>\n",
       "<style scoped>\n",
       "    .dataframe tbody tr th:only-of-type {\n",
       "        vertical-align: middle;\n",
       "    }\n",
       "\n",
       "    .dataframe tbody tr th {\n",
       "        vertical-align: top;\n",
       "    }\n",
       "\n",
       "    .dataframe thead th {\n",
       "        text-align: right;\n",
       "    }\n",
       "</style>\n",
       "<table border=\"1\" class=\"dataframe\">\n",
       "  <thead>\n",
       "    <tr style=\"text-align: right;\">\n",
       "      <th></th>\n",
       "      <th>App</th>\n",
       "      <th>Translated_Review</th>\n",
       "      <th>Sentiment</th>\n",
       "      <th>Sentiment_Polarity</th>\n",
       "      <th>Sentiment_Subjectivity</th>\n",
       "    </tr>\n",
       "  </thead>\n",
       "  <tbody>\n",
       "    <tr>\n",
       "      <td>8</td>\n",
       "      <td>10 Best Foods for You</td>\n",
       "      <td>Looking forward app,</td>\n",
       "      <td>Neutral</td>\n",
       "      <td>0.0</td>\n",
       "      <td>0.0</td>\n",
       "    </tr>\n",
       "    <tr>\n",
       "      <td>9</td>\n",
       "      <td>10 Best Foods for You</td>\n",
       "      <td>It helpful site ! It help foods get !</td>\n",
       "      <td>Neutral</td>\n",
       "      <td>0.0</td>\n",
       "      <td>0.0</td>\n",
       "    </tr>\n",
       "    <tr>\n",
       "      <td>22</td>\n",
       "      <td>10 Best Foods for You</td>\n",
       "      <td>God health</td>\n",
       "      <td>Neutral</td>\n",
       "      <td>0.0</td>\n",
       "      <td>0.0</td>\n",
       "    </tr>\n",
       "    <tr>\n",
       "      <td>25</td>\n",
       "      <td>10 Best Foods for You</td>\n",
       "      <td>I found lot wealth form health...</td>\n",
       "      <td>Neutral</td>\n",
       "      <td>0.0</td>\n",
       "      <td>0.0</td>\n",
       "    </tr>\n",
       "    <tr>\n",
       "      <td>29</td>\n",
       "      <td>10 Best Foods for You</td>\n",
       "      <td>On test....</td>\n",
       "      <td>Neutral</td>\n",
       "      <td>0.0</td>\n",
       "      <td>0.0</td>\n",
       "    </tr>\n",
       "    <tr>\n",
       "      <td>51</td>\n",
       "      <td>10 Best Foods for You</td>\n",
       "      <td>I like</td>\n",
       "      <td>Neutral</td>\n",
       "      <td>0.0</td>\n",
       "      <td>0.0</td>\n",
       "    </tr>\n",
       "    <tr>\n",
       "      <td>56</td>\n",
       "      <td>10 Best Foods for You</td>\n",
       "      <td>This helpful</td>\n",
       "      <td>Neutral</td>\n",
       "      <td>0.0</td>\n",
       "      <td>0.0</td>\n",
       "    </tr>\n",
       "    <tr>\n",
       "      <td>61</td>\n",
       "      <td>10 Best Foods for You</td>\n",
       "      <td>Luv</td>\n",
       "      <td>Neutral</td>\n",
       "      <td>0.0</td>\n",
       "      <td>0.0</td>\n",
       "    </tr>\n",
       "    <tr>\n",
       "      <td>64</td>\n",
       "      <td>10 Best Foods for You</td>\n",
       "      <td>Doesn't work... Zero</td>\n",
       "      <td>Neutral</td>\n",
       "      <td>0.0</td>\n",
       "      <td>0.0</td>\n",
       "    </tr>\n",
       "    <tr>\n",
       "      <td>86</td>\n",
       "      <td>10 Best Foods for You</td>\n",
       "      <td>This 5 starr Download</td>\n",
       "      <td>Neutral</td>\n",
       "      <td>0.0</td>\n",
       "      <td>0.0</td>\n",
       "    </tr>\n",
       "    <tr>\n",
       "      <td>87</td>\n",
       "      <td>10 Best Foods for You</td>\n",
       "      <td>I like Was helpful</td>\n",
       "      <td>Neutral</td>\n",
       "      <td>0.0</td>\n",
       "      <td>0.0</td>\n",
       "    </tr>\n",
       "    <tr>\n",
       "      <td>108</td>\n",
       "      <td>10 Best Foods for You</td>\n",
       "      <td>Looking forward app,</td>\n",
       "      <td>Neutral</td>\n",
       "      <td>0.0</td>\n",
       "      <td>0.0</td>\n",
       "    </tr>\n",
       "    <tr>\n",
       "      <td>109</td>\n",
       "      <td>10 Best Foods for You</td>\n",
       "      <td>It helpful site ! It help foods get !</td>\n",
       "      <td>Neutral</td>\n",
       "      <td>0.0</td>\n",
       "      <td>0.0</td>\n",
       "    </tr>\n",
       "    <tr>\n",
       "      <td>122</td>\n",
       "      <td>10 Best Foods for You</td>\n",
       "      <td>God health</td>\n",
       "      <td>Neutral</td>\n",
       "      <td>0.0</td>\n",
       "      <td>0.0</td>\n",
       "    </tr>\n",
       "    <tr>\n",
       "      <td>125</td>\n",
       "      <td>10 Best Foods for You</td>\n",
       "      <td>I found lot wealth form health...</td>\n",
       "      <td>Neutral</td>\n",
       "      <td>0.0</td>\n",
       "      <td>0.0</td>\n",
       "    </tr>\n",
       "    <tr>\n",
       "      <td>129</td>\n",
       "      <td>10 Best Foods for You</td>\n",
       "      <td>On test....</td>\n",
       "      <td>Neutral</td>\n",
       "      <td>0.0</td>\n",
       "      <td>0.0</td>\n",
       "    </tr>\n",
       "    <tr>\n",
       "      <td>151</td>\n",
       "      <td>10 Best Foods for You</td>\n",
       "      <td>I like</td>\n",
       "      <td>Neutral</td>\n",
       "      <td>0.0</td>\n",
       "      <td>0.0</td>\n",
       "    </tr>\n",
       "    <tr>\n",
       "      <td>156</td>\n",
       "      <td>10 Best Foods for You</td>\n",
       "      <td>This helpful</td>\n",
       "      <td>Neutral</td>\n",
       "      <td>0.0</td>\n",
       "      <td>0.0</td>\n",
       "    </tr>\n",
       "    <tr>\n",
       "      <td>161</td>\n",
       "      <td>10 Best Foods for You</td>\n",
       "      <td>Luv</td>\n",
       "      <td>Neutral</td>\n",
       "      <td>0.0</td>\n",
       "      <td>0.0</td>\n",
       "    </tr>\n",
       "    <tr>\n",
       "      <td>164</td>\n",
       "      <td>10 Best Foods for You</td>\n",
       "      <td>Doesn't work... Zero</td>\n",
       "      <td>Neutral</td>\n",
       "      <td>0.0</td>\n",
       "      <td>0.0</td>\n",
       "    </tr>\n",
       "    <tr>\n",
       "      <td>186</td>\n",
       "      <td>10 Best Foods for You</td>\n",
       "      <td>This 5 starr Download</td>\n",
       "      <td>Neutral</td>\n",
       "      <td>0.0</td>\n",
       "      <td>0.0</td>\n",
       "    </tr>\n",
       "    <tr>\n",
       "      <td>187</td>\n",
       "      <td>10 Best Foods for You</td>\n",
       "      <td>I like Was helpful</td>\n",
       "      <td>Neutral</td>\n",
       "      <td>0.0</td>\n",
       "      <td>0.0</td>\n",
       "    </tr>\n",
       "  </tbody>\n",
       "</table>\n",
       "</div>"
      ],
      "text/plain": [
       "                       App                      Translated_Review Sentiment  \\\n",
       "8    10 Best Foods for You                   Looking forward app,   Neutral   \n",
       "9    10 Best Foods for You  It helpful site ! It help foods get !   Neutral   \n",
       "22   10 Best Foods for You                             God health   Neutral   \n",
       "25   10 Best Foods for You      I found lot wealth form health...   Neutral   \n",
       "29   10 Best Foods for You                            On test....   Neutral   \n",
       "51   10 Best Foods for You                                 I like   Neutral   \n",
       "56   10 Best Foods for You                           This helpful   Neutral   \n",
       "61   10 Best Foods for You                                    Luv   Neutral   \n",
       "64   10 Best Foods for You                   Doesn't work... Zero   Neutral   \n",
       "86   10 Best Foods for You                  This 5 starr Download   Neutral   \n",
       "87   10 Best Foods for You                     I like Was helpful   Neutral   \n",
       "108  10 Best Foods for You                   Looking forward app,   Neutral   \n",
       "109  10 Best Foods for You  It helpful site ! It help foods get !   Neutral   \n",
       "122  10 Best Foods for You                             God health   Neutral   \n",
       "125  10 Best Foods for You      I found lot wealth form health...   Neutral   \n",
       "129  10 Best Foods for You                            On test....   Neutral   \n",
       "151  10 Best Foods for You                                 I like   Neutral   \n",
       "156  10 Best Foods for You                           This helpful   Neutral   \n",
       "161  10 Best Foods for You                                    Luv   Neutral   \n",
       "164  10 Best Foods for You                   Doesn't work... Zero   Neutral   \n",
       "186  10 Best Foods for You                  This 5 starr Download   Neutral   \n",
       "187  10 Best Foods for You                     I like Was helpful   Neutral   \n",
       "\n",
       "     Sentiment_Polarity  Sentiment_Subjectivity  \n",
       "8                   0.0                     0.0  \n",
       "9                   0.0                     0.0  \n",
       "22                  0.0                     0.0  \n",
       "25                  0.0                     0.0  \n",
       "29                  0.0                     0.0  \n",
       "51                  0.0                     0.0  \n",
       "56                  0.0                     0.0  \n",
       "61                  0.0                     0.0  \n",
       "64                  0.0                     0.0  \n",
       "86                  0.0                     0.0  \n",
       "87                  0.0                     0.0  \n",
       "108                 0.0                     0.0  \n",
       "109                 0.0                     0.0  \n",
       "122                 0.0                     0.0  \n",
       "125                 0.0                     0.0  \n",
       "129                 0.0                     0.0  \n",
       "151                 0.0                     0.0  \n",
       "156                 0.0                     0.0  \n",
       "161                 0.0                     0.0  \n",
       "164                 0.0                     0.0  \n",
       "186                 0.0                     0.0  \n",
       "187                 0.0                     0.0  "
      ]
     },
     "execution_count": 94,
     "metadata": {},
     "output_type": "execute_result"
    }
   ],
   "source": [
    "df47"
   ]
  },
  {
   "cell_type": "code",
   "execution_count": 95,
   "metadata": {},
   "outputs": [],
   "source": [
    "labels1=['Positive','Negative','Neutral']"
   ]
  },
  {
   "cell_type": "code",
   "execution_count": 100,
   "metadata": {},
   "outputs": [
    {
     "data": {
      "text/html": [
       "<div>\n",
       "<style scoped>\n",
       "    .dataframe tbody tr th:only-of-type {\n",
       "        vertical-align: middle;\n",
       "    }\n",
       "\n",
       "    .dataframe tbody tr th {\n",
       "        vertical-align: top;\n",
       "    }\n",
       "\n",
       "    .dataframe thead th {\n",
       "        text-align: right;\n",
       "    }\n",
       "</style>\n",
       "<table border=\"1\" class=\"dataframe\">\n",
       "  <thead>\n",
       "    <tr style=\"text-align: right;\">\n",
       "      <th></th>\n",
       "      <th>Total</th>\n",
       "      <th>Review</th>\n",
       "    </tr>\n",
       "  </thead>\n",
       "  <tbody>\n",
       "    <tr>\n",
       "      <td>0</td>\n",
       "      <td>Positive</td>\n",
       "      <td>162</td>\n",
       "    </tr>\n",
       "    <tr>\n",
       "      <td>1</td>\n",
       "      <td>Negative</td>\n",
       "      <td>10</td>\n",
       "    </tr>\n",
       "    <tr>\n",
       "      <td>2</td>\n",
       "      <td>Neutral</td>\n",
       "      <td>22</td>\n",
       "    </tr>\n",
       "  </tbody>\n",
       "</table>\n",
       "</div>"
      ],
      "text/plain": [
       "      Total  Review\n",
       "0  Positive     162\n",
       "1  Negative      10\n",
       "2   Neutral      22"
      ]
     },
     "execution_count": 100,
     "metadata": {},
     "output_type": "execute_result"
    },
    {
     "data": {
      "image/png": "[encoded data removed]",
      "text/plain": [
       "<Figure size 288x288 with 1 Axes>"
      ]
     },
     "metadata": {},
     "output_type": "display_data"
    }
   ],
   "source": [
    "df100=pd.DataFrame(labels1,count1)\n",
    "df100.reset_index(inplace=True)\n",
    "df100.columns=['Review','Total']\n",
    "df100=df100[['Total','Review']]\n",
    "plt.figure(1,figsize=(4,4))\n",
    "plt.ticklabel_format(style='plain', axis='x')\n",
    "sns.barplot(y=df100['Total'],x=df100['Review'])\n",
    "plt.savefig('count.jpg')\n",
    "df100"
   ]
  },
  {
   "cell_type": "code",
   "execution_count": 106,
   "metadata": {},
   "outputs": [
    {
     "data": {
      "text/html": [
       "<div>\n",
       "<style scoped>\n",
       "    .dataframe tbody tr th:only-of-type {\n",
       "        vertical-align: middle;\n",
       "    }\n",
       "\n",
       "    .dataframe tbody tr th {\n",
       "        vertical-align: top;\n",
       "    }\n",
       "\n",
       "    .dataframe thead th {\n",
       "        text-align: right;\n",
       "    }\n",
       "</style>\n",
       "<table border=\"1\" class=\"dataframe\">\n",
       "  <thead>\n",
       "    <tr style=\"text-align: right;\">\n",
       "      <th></th>\n",
       "      <th>Total</th>\n",
       "      <th>Review</th>\n",
       "    </tr>\n",
       "  </thead>\n",
       "  <tbody>\n",
       "    <tr>\n",
       "      <td>0</td>\n",
       "      <td>Positive</td>\n",
       "      <td>162</td>\n",
       "    </tr>\n",
       "    <tr>\n",
       "      <td>1</td>\n",
       "      <td>Negative</td>\n",
       "      <td>10</td>\n",
       "    </tr>\n",
       "    <tr>\n",
       "      <td>2</td>\n",
       "      <td>Neutral</td>\n",
       "      <td>22</td>\n",
       "    </tr>\n",
       "  </tbody>\n",
       "</table>\n",
       "</div>"
      ],
      "text/plain": [
       "      Total  Review\n",
       "0  Positive     162\n",
       "1  Negative      10\n",
       "2   Neutral      22"
      ]
     },
     "execution_count": 106,
     "metadata": {},
     "output_type": "execute_result"
    },
    {
     "data": {
      "image/png": "[encoded data removed]",
      "text/plain": [
       "<Figure size 288x288 with 1 Axes>"
      ]
     },
     "metadata": {},
     "output_type": "display_data"
    }
   ],
   "source": [
    "#requirement15\n",
    "df110=pd.DataFrame(labels1,count1)\n",
    "df110.reset_index(inplace=True)\n",
    "df110.columns=['Count','Review']\n",
    "df110=df110[['Review','Count']]\n",
    "plt.figure(1,figsize=(4,4))\n",
    "sns.barplot(y=df110['Review'],x=df110['Count'])\n",
    "plt.savefig('count.jpg')\n",
    "df100"
   ]
  },
  {
   "cell_type": "code",
   "execution_count": 129,
   "metadata": {},
   "outputs": [
    {
     "data": {
      "text/plain": [
       "1074"
      ]
     },
     "execution_count": 129,
     "metadata": {},
     "output_type": "execute_result"
    }
   ],
   "source": [
    "count=[]\n",
    "count=train['App'].unique()\n",
    "len(count)"
   ]
  },
  {
   "cell_type": "code",
   "execution_count": 127,
   "metadata": {},
   "outputs": [
    {
     "name": "stdout",
     "output_type": "stream",
     "text": [
      "1800 Contacts - Lens Store\n"
     ]
    }
   ],
   "source": [
    "print(count[2])"
   ]
  },
  {
   "cell_type": "code",
   "execution_count": 118,
   "metadata": {},
   "outputs": [
    {
     "data": {
      "text/plain": [
       "[31]"
      ]
     },
     "execution_count": 118,
     "metadata": {},
     "output_type": "execute_result"
    }
   ],
   "source": [
    "df3=train[train['App']=='104 找工作 - 找工作 找打工 找兼職 履歷健檢 履歷診療室']\n",
    "df4=df3[df3['Sentiment']=='Positive']\n",
    "count1=[]\n",
    "sum1=df4['Sentiment'].count()\n",
    "count1.append(sum1)\n",
    "count1"
   ]
  },
  {
   "cell_type": "code",
   "execution_count": 119,
   "metadata": {},
   "outputs": [
    {
     "data": {
      "text/plain": [
       "[31, 1]"
      ]
     },
     "execution_count": 119,
     "metadata": {},
     "output_type": "execute_result"
    }
   ],
   "source": [
    "df5=train[train['App']=='104 找工作 - 找工作 找打工 找兼職 履歷健檢 履歷診療室']\n",
    "df6=df5[df5['Sentiment']=='Negative']\n",
    "sum1=df6['Sentiment'].count()\n",
    "count1.append(sum1)\n",
    "count1"
   ]
  },
  {
   "cell_type": "code",
   "execution_count": 120,
   "metadata": {},
   "outputs": [
    {
     "data": {
      "text/plain": [
       "[31, 1, 8]"
      ]
     },
     "execution_count": 120,
     "metadata": {},
     "output_type": "execute_result"
    }
   ],
   "source": [
    "df7=train[train['App']=='104 找工作 - 找工作 找打工 找兼職 履歷健檢 履歷診療室']\n",
    "df8=df7[df7['Sentiment']=='Neutral']\n",
    "sum1=df8['Sentiment'].count()\n",
    "count1.append(sum1)\n",
    "count1"
   ]
  },
  {
   "cell_type": "code",
   "execution_count": 121,
   "metadata": {},
   "outputs": [],
   "source": [
    "labels1=['Positive','Negative','Neutral']"
   ]
  },
  {
   "cell_type": "code",
   "execution_count": 125,
   "metadata": {},
   "outputs": [
    {
     "data": {
      "text/html": [
       "<div>\n",
       "<style scoped>\n",
       "    .dataframe tbody tr th:only-of-type {\n",
       "        vertical-align: middle;\n",
       "    }\n",
       "\n",
       "    .dataframe tbody tr th {\n",
       "        vertical-align: top;\n",
       "    }\n",
       "\n",
       "    .dataframe thead th {\n",
       "        text-align: right;\n",
       "    }\n",
       "</style>\n",
       "<table border=\"1\" class=\"dataframe\">\n",
       "  <thead>\n",
       "    <tr style=\"text-align: right;\">\n",
       "      <th></th>\n",
       "      <th>Review</th>\n",
       "      <th>Count</th>\n",
       "    </tr>\n",
       "  </thead>\n",
       "  <tbody>\n",
       "    <tr>\n",
       "      <td>0</td>\n",
       "      <td>Positive</td>\n",
       "      <td>31</td>\n",
       "    </tr>\n",
       "    <tr>\n",
       "      <td>1</td>\n",
       "      <td>Negative</td>\n",
       "      <td>1</td>\n",
       "    </tr>\n",
       "    <tr>\n",
       "      <td>2</td>\n",
       "      <td>Neutral</td>\n",
       "      <td>8</td>\n",
       "    </tr>\n",
       "  </tbody>\n",
       "</table>\n",
       "</div>"
      ],
      "text/plain": [
       "     Review  Count\n",
       "0  Positive     31\n",
       "1  Negative      1\n",
       "2   Neutral      8"
      ]
     },
     "execution_count": 125,
     "metadata": {},
     "output_type": "execute_result"
    },
    {
     "data": {
      "image/png": "[encoded data removed]",
      "text/plain": [
       "<Figure size 288x288 with 1 Axes>"
      ]
     },
     "metadata": {},
     "output_type": "display_data"
    }
   ],
   "source": [
    "#requirement15\n",
    "df111=pd.DataFrame(labels1,count1)\n",
    "df111.reset_index(inplace=True)\n",
    "df111.columns=['Count','Review']\n",
    "df111=df111[['Review','Count']]\n",
    "plt.figure(1,figsize=(4,4))\n",
    "sns.barplot(y=df111['Review'],x=df111['Count'])\n",
    "df111"
   ]
  },
  {
   "cell_type": "code",
   "execution_count": null,
   "metadata": {},
   "outputs": [],
   "source": []
  }
 ],
 "metadata": {
  "kernelspec": {
   "display_name": "Python 3",
   "language": "python",
   "name": "python3"
  },
  "language_info": {
   "codemirror_mode": {
    "name": "ipython",
    "version": 3
   },
   "file_extension": ".py",
   "mimetype": "text/x-python",
   "name": "python",
   "nbconvert_exporter": "python",
   "pygments_lexer": "ipython3",
   "version": "3.6.5"
  }
 },
 "nbformat": 4,
 "nbformat_minor": 2
}
